{
 "cells": [
  {
   "cell_type": "code",
   "execution_count": 23,
   "metadata": {},
   "outputs": [],
   "source": [
    "# Adapted from OpenAI's Vision example \n",
    "from openai import OpenAI\n",
    "import base64\n",
    "import requests\n",
    "\n",
    "# Point to the local server\n",
    "client = OpenAI(base_url=\"http://localhost:1234/v1\", api_key=\"not-needed\")\n",
    "\n",
    "image_url = \"https://upload.wikimedia.org/wikipedia/commons/thumb/0/0e/Adelie_penguins_in_the_South_Shetland_Islands.jpg/640px-Adelie_penguins_in_the_South_Shetland_Islands.jpg\"\n",
    "\n",
    "image_local = \"kitteis.jpeg\""
   ]
  },
  {
   "cell_type": "code",
   "execution_count": 24,
   "metadata": {},
   "outputs": [],
   "source": [
    "\n",
    "# Download the image and encode it to base64\n",
    "response = requests.get(image_url)\n",
    "\n",
    "base64_image = base64.b64encode(response.content).decode('utf-8')\n",
    "\n",
    "\n",
    "local_base64_image = base64.b64encode(open(image_local, \"rb\").read()).decode('utf-8')\n",
    "# i_base64_image "
   ]
  },
  {
   "cell_type": "code",
   "execution_count": 25,
   "metadata": {},
   "outputs": [
    {
     "name": "stdout",
     "output_type": "stream",
     "text": [
      " The image shows a cartoon or comic book scene in which two cats are sitting behind the counter of a restaurant., surrounded by various objects. Kraft paper towels and teddy bears. A cup can be seen on the table between the cats. \n",
      "\n",
      "The restaurant setting includes a chair placed near the right side of the scene, another chair in the background, and a dining table positioned closer to the center. Additionally, there are two bottles located on a surface in the middle of the room. The overall atmosphere of the scene is playful and whimsical.\n"
     ]
    }
   ],
   "source": [
    "\n",
    "\n",
    "# Download the image and encode it to base64\n",
    "# response = requests.get(image_url)\n",
    "# base64_image = base64.b64encode(response.content).decode('utf-8')\n",
    "\n",
    "completion = client.chat.completions.create(\n",
    "  model=\"local-model\", # not used\n",
    "  messages=[\n",
    "    {\n",
    "      \"role\": \"user\",\n",
    "      \"content\": [\n",
    "        {\"type\": \"text\", \"text\": \"What’s in this image?\"},\n",
    "        {\n",
    "          \"type\": \"image_url\",\n",
    "          \"image_url\": {\n",
    "            \"url\": f\"data:image/jpeg;base64,{local_base64_image}\"\n",
    "          },\n",
    "        },\n",
    "      ],\n",
    "    }\n",
    "  ],\n",
    "  max_tokens=1000,\n",
    "  stream=True\n",
    ")\n",
    "\n",
    "for chunk in completion:\n",
    "  if chunk.choices[0].delta.content:\n",
    "    print(chunk.choices[0].delta.content, end=\"\", flush=True)"
   ]
  },
  {
   "cell_type": "code",
   "execution_count": null,
   "metadata": {},
   "outputs": [],
   "source": []
  },
  {
   "cell_type": "code",
   "execution_count": null,
   "metadata": {},
   "outputs": [],
   "source": []
  }
 ],
 "metadata": {
  "kernelspec": {
   "display_name": "Python 3",
   "language": "python",
   "name": "python3"
  },
  "language_info": {
   "codemirror_mode": {
    "name": "ipython",
    "version": 3
   },
   "file_extension": ".py",
   "mimetype": "text/x-python",
   "name": "python",
   "nbconvert_exporter": "python",
   "pygments_lexer": "ipython3",
   "version": "3.10.1"
  }
 },
 "nbformat": 4,
 "nbformat_minor": 2
}
