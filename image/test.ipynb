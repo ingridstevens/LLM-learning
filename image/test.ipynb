{
 "cells": [
  {
   "cell_type": "code",
   "execution_count": 63,
   "metadata": {},
   "outputs": [],
   "source": [
    "# Adapted from OpenAI's Vision example \n",
    "from openai import OpenAI\n",
    "import base64\n",
    "import requests\n",
    "\n",
    "# Point to the local server\n",
    "client = OpenAI(base_url=\"http://localhost:1234/v1\", api_key=\"not-needed\")\n"
   ]
  },
  {
   "cell_type": "code",
   "execution_count": 64,
   "metadata": {},
   "outputs": [],
   "source": [
    "# set up the image URLs \n",
    "\n",
    "image_url = \"https://upload.wikimedia.org/wikipedia/commons/thumb/0/0e/Adelie_penguins_in_the_South_Shetland_Islands.jpg/640px-Adelie_penguins_in_the_South_Shetland_Islands.jpg\"\n",
    "\n",
    "image_local = \"kitteis.jpeg\"\n",
    "\n",
    "other_img = \"/Users/ingrid/Desktop/confirm.png\""
   ]
  },
  {
   "cell_type": "code",
   "execution_count": 65,
   "metadata": {},
   "outputs": [],
   "source": [
    "# takes in an image url or local file and returns the base64 encoded image\n",
    "\n",
    "def get_base_64_img(image):\n",
    "    # check if there is a \"http\" in the url\n",
    "    # local file case\n",
    "    if image.find(\"http\") == -1:\n",
    "        base64_image = base64.b64encode(open(image, \"rb\").read()).decode('utf-8')\n",
    "    # File on the web case (contains http)   \n",
    "    else:\n",
    "        response = requests.get(image)\n",
    "        base64_image = base64.b64encode(response.content).decode('utf-8')\n",
    "    return base64_image"
   ]
  },
  {
   "cell_type": "code",
   "execution_count": 66,
   "metadata": {},
   "outputs": [
    {
     "name": "stdout",
     "output_type": "stream",
     "text": [
      " The image is a cartoon drawing of three cat-like characters sitting at a counter in a space-themed cafe. They are surrounded by various items such as bottles, cups, and bowls. There are also chairs placed around the dining table where the cats are seated. A refrigerator can be seen in the background, along with a rocket ship decoration on the wall. The scene appears to be set at night, with a moon visible in the sky outside the cafe."
     ]
    }
   ],
   "source": [
    "# Create completion request\n",
    "\n",
    "completion = client.chat.completions.create(\n",
    "  model=\"local-model\", # not used\n",
    "  temperature=0,\n",
    "  messages=[\n",
    "    {\n",
    "      \"role\": \"user\",\n",
    "      \"content\": [\n",
    "        {\"type\": \"text\", \"text\": \"What’s in this image? Be as specific and detailed and verbose as possible.\"},\n",
    "        {\n",
    "          \"type\": \"image_url\",\n",
    "          \"image_url\": {\n",
    "            \"url\": f\"data:image/jpeg;base64,{get_base_64_img(image_local)}\"\n",
    "          },\n",
    "        },\n",
    "      ],\n",
    "    }\n",
    "  ],\n",
    "  max_tokens=1000,\n",
    "  stream=True\n",
    ")\n",
    "\n",
    "for chunk in completion:\n",
    "  if chunk.choices[0].delta.content:\n",
    "    print(chunk.choices[0].delta.content, end=\"\", flush=True)"
   ]
  },
  {
   "cell_type": "code",
   "execution_count": null,
   "metadata": {},
   "outputs": [],
   "source": []
  }
 ],
 "metadata": {
  "kernelspec": {
   "display_name": "Python 3",
   "language": "python",
   "name": "python3"
  },
  "language_info": {
   "codemirror_mode": {
    "name": "ipython",
    "version": 3
   },
   "file_extension": ".py",
   "mimetype": "text/x-python",
   "name": "python",
   "nbconvert_exporter": "python",
   "pygments_lexer": "ipython3",
   "version": "3.10.1"
  }
 },
 "nbformat": 4,
 "nbformat_minor": 2
}
