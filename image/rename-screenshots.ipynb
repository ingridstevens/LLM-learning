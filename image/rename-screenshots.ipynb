{
 "cells": [
  {
   "cell_type": "markdown",
   "metadata": {},
   "source": [
    "Problems\n",
    "\n",
    "* model does not follow instructions: it refuses to be anything but verbose\n",
    "--> solution: use one model to describe the image, and another to create a two-word summary \n",
    "--> solution prompt:\n",
    "\n",
    "Your task is to create a short (1-2 word), yet descriptive CamelCase title for an image. Focus on the theme described, rather than individual components. Return only the text, no quotation marks, and do not provide a file extension (no .jpg or .png). An example of a good answer is SpaceCats or GermanLaw. A bad example is SpaceCats.png or RussianOrange.png I'll provide a description of the image, and you do the rest. Here's the image: \"The image features a group of various miniature statues, including a judge, books, coins, and other items. These objects are scattered across a table, creating an interesting and visually appealing scene. The presence of the statue of justice along with the books and coins suggests that this arrangement might represent a theme or concept related to law, government, or commerce. The intricate details and craftsmanship of these miniature statues showcase the creativity and skill involved in their creation.\"\n",
    "\n",
    "Llama2 is bettter at folllowing directions "
   ]
  },
  {
   "cell_type": "code",
   "execution_count": null,
   "metadata": {},
   "outputs": [],
   "source": []
  },
  {
   "cell_type": "code",
   "execution_count": null,
   "metadata": {},
   "outputs": [],
   "source": []
  }
 ],
 "metadata": {
  "language_info": {
   "name": "python"
  }
 },
 "nbformat": 4,
 "nbformat_minor": 2
}
